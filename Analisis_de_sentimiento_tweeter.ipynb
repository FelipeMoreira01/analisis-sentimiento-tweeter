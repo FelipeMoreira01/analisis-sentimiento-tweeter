{
 "cells": [
  {
   "attachments": {},
   "cell_type": "markdown",
   "metadata": {},
   "source": [
    "Por: Felipe Moreira"
   ]
  },
  {
   "attachments": {},
   "cell_type": "markdown",
   "metadata": {},
   "source": [
    "Análisis de Sentimientos de Twitter"
   ]
  },
  {
   "attachments": {},
   "cell_type": "markdown",
   "metadata": {},
   "source": [
    "## Parte 1"
   ]
  },
  {
   "attachments": {},
   "cell_type": "markdown",
   "metadata": {},
   "source": [
    "### 1. Preliminares"
   ]
  },
  {
   "attachments": {},
   "cell_type": "markdown",
   "metadata": {},
   "source": [
    "* El problema trata de poder clasificar la polaridad de distintos tweeters de a cuerdo a su sentimiento que representan\n",
    "* El objetivo consiste en poder identificar con la mayor exactitud posible si un tweet tiene una polaridad negativa o positiva.\n",
    "* La base entregada nos entrega una columna con el tweet y otra con el sentimiento que se identifica en cada tweet.\n",
    "* El problema se trata de un problema de clasificación ya que hay que debemos clasificar los tweets entre dos clases (polaridad negativa o positiva)\n",
    "* Los atributos que tenemos disponibles son los mismos tweets compuestos por distintas palabras\n",
    "* El vector objetivo actual indica el sentimiento del tweet, debe ser recodificado para indicar si es positivo o negativo\n",
    "\n",
    "**La metodología a seguir será la siguiente:**\n",
    "\n",
    "1. Preprocesar la info: eliminar palabras irrelevantes (stopwords), pasarán a lowercase, se probará con lemantización y steamming también para evaluar mejores resultados. También se transformará el vector objetivo a sentimiento positivo y negativo de acuerdo a lo indicado.\n",
    "2. Extraer características: pasar a matriz numérica (Bag of words) para poder entregarles los datos al modelo y que los entienda de mejor manera\n",
    "3. Dividir el conjunto de datos: entre entrenamiento y prueba para entrenar y probar los modelos mediante train_test_split\n",
    "4. seleecionar los algoritmos de clasificación a utilizar y sus grillas con valores de hiperparámetros a probar: \n",
    "    * Naive bayes\n",
    "    * Support Vector Machine (SVM): {'C': [0.0001, 0.001, 0.01, 0.1, 1, 10, 100, 1000],'gamma': [0.0000001, 0.0001, 0.001, 0.01, 0.1, 1, 10,1000]}\n",
    "    * Arboles de descición: {'max_features': list(range(1, X_train.shape[1])),\n",
    "                                 'max_depth': np.linspace(1, 32, num=32, endpoint=True)}\n",
    "    * Random Forest: 'n_estimators': n_estimators,  # Número de árboles en el bosque\n",
    "    'max_depth': [None, 5, 10],  # Profundidad máxima de cada árbol\n",
    "    'min_samples_split': [2, 5, 10],  # Número mínimo de muestras requeridas para dividir un nodo interno\n",
    "    'min_samples_leaf': [1, 2, 4]  # Número mínimo de muestras requeridas en cada hoja del árbol\n",
    "    * AdaBoost y Gradient Boost\n",
    "    * Ligth GBM\n",
    "5. Entrenar y ajustar el modelo\n",
    "6. Evaluar rendimientos de los modelos: se evaluará el desempeño de metricas como recall, presicion, accuracy y F1. Tambien se evaluará el uso de Confusion matrix y la curva ROC\n",
    "\n",
    "Librerias a implementar:\n",
    "* Pandas: para la manipulación y análisis de datos.\n",
    "* NumPy: para realizar operaciones numéricas y manipulación de matrices.\n",
    "* Scikit-learn: para implementar modelos de aprendizaje automático y realizar evaluación de métricas.\n",
    "* Matplotlib y Seaborn: para visualización de datos.\n",
    "* nltk: procesamiento de lenguaje natural\n",
    "* string: procesamiento de string\n",
    "* random: generación de valores aleatorios"
   ]
  },
  {
   "attachments": {},
   "cell_type": "markdown",
   "metadata": {},
   "source": [
    "### 2. Aspectos Computacionales"
   ]
  },
  {
   "cell_type": "code",
   "execution_count": 2,
   "metadata": {},
   "outputs": [
    {
     "name": "stderr",
     "output_type": "stream",
     "text": [
      "[nltk_data] Downloading package stopwords to\n",
      "[nltk_data]     /Users/felipemoreira/nltk_data...\n",
      "[nltk_data]   Package stopwords is already up-to-date!\n",
      "[nltk_data] Downloading package wordnet to\n",
      "[nltk_data]     /Users/felipemoreira/nltk_data...\n",
      "[nltk_data]   Package wordnet is already up-to-date!\n"
     ]
    },
    {
     "data": {
      "text/plain": [
       "True"
      ]
     },
     "execution_count": 2,
     "metadata": {},
     "output_type": "execute_result"
    }
   ],
   "source": [
    "#librerias y modulos a implementar:\n",
    "import pandas as pd\n",
    "import numpy as np\n",
    "import matplotlib.pyplot as plt\n",
    "import seaborn as sns\n",
    "\n",
    "from sklearn.model_selection import train_test_split\n",
    "from sklearn.feature_extraction.text import CountVectorizer, TfidfTransformer\n",
    "from imblearn.over_sampling import SMOTE\n",
    "from sklearn.naive_bayes import MultinomialNB\n",
    "from sklearn.tree import DecisionTreeClassifier\n",
    "from sklearn.ensemble import RandomForestClassifier\n",
    "from sklearn.svm import SVC\n",
    "from sklearn.metrics import mean_squared_error, mean_absolute_error, r2_score, confusion_matrix, classification_report, accuracy_score\n",
    "from sklearn.model_selection import GridSearchCV\n",
    "from sklearn.ensemble import AdaBoostClassifier, GradientBoostingClassifier\n",
    "import nltk\n",
    "from nltk.corpus import stopwords\n",
    "from nltk.stem import WordNetLemmatizer\n",
    "from nltk.stem import PorterStemmer\n",
    "import string\n",
    "import random\n",
    "import pickle\n",
    "\n",
    "\n",
    "\n",
    "#from keras.models import Sequential\n",
    "#from keras.layers import Dense\n",
    "\n",
    "nltk.download('stopwords')\n",
    "nltk.download('wordnet')"
   ]
  },
  {
   "cell_type": "code",
   "execution_count": 3,
   "metadata": {},
   "outputs": [
    {
     "name": "stdout",
     "output_type": "stream",
     "text": [
      "(30000, 2)\n"
     ]
    },
    {
     "data": {
      "text/html": [
       "<div>\n",
       "<style scoped>\n",
       "    .dataframe tbody tr th:only-of-type {\n",
       "        vertical-align: middle;\n",
       "    }\n",
       "\n",
       "    .dataframe tbody tr th {\n",
       "        vertical-align: top;\n",
       "    }\n",
       "\n",
       "    .dataframe thead th {\n",
       "        text-align: right;\n",
       "    }\n",
       "</style>\n",
       "<table border=\"1\" class=\"dataframe\">\n",
       "  <thead>\n",
       "    <tr style=\"text-align: right;\">\n",
       "      <th></th>\n",
       "      <th>content</th>\n",
       "      <th>sentiment</th>\n",
       "    </tr>\n",
       "  </thead>\n",
       "  <tbody>\n",
       "    <tr>\n",
       "      <th>0</th>\n",
       "      <td>Happy Mama's day to all mothers</td>\n",
       "      <td>love</td>\n",
       "    </tr>\n",
       "    <tr>\n",
       "      <th>1</th>\n",
       "      <td>@LysdelTellez I am lost. Please help me find a...</td>\n",
       "      <td>worry</td>\n",
       "    </tr>\n",
       "    <tr>\n",
       "      <th>2</th>\n",
       "      <td>@BoomKatt yes yes I AM, networking whore to th...</td>\n",
       "      <td>happiness</td>\n",
       "    </tr>\n",
       "    <tr>\n",
       "      <th>3</th>\n",
       "      <td>you@snapplynn Wish that would have been your t...</td>\n",
       "      <td>neutral</td>\n",
       "    </tr>\n",
       "    <tr>\n",
       "      <th>4</th>\n",
       "      <td>now i am doing the MicroEconomics project  iha...</td>\n",
       "      <td>worry</td>\n",
       "    </tr>\n",
       "  </tbody>\n",
       "</table>\n",
       "</div>"
      ],
      "text/plain": [
       "                                             content  sentiment\n",
       "0                    Happy Mama's day to all mothers       love\n",
       "1  @LysdelTellez I am lost. Please help me find a...      worry\n",
       "2  @BoomKatt yes yes I AM, networking whore to th...  happiness\n",
       "3  you@snapplynn Wish that would have been your t...    neutral\n",
       "4  now i am doing the MicroEconomics project  iha...      worry"
      ]
     },
     "execution_count": 3,
     "metadata": {},
     "output_type": "execute_result"
    }
   ],
   "source": [
    "#lectura del archivo\n",
    "df = pd.read_csv('training_tweets.csv').drop(columns='Unnamed: 0')\n",
    "print(df.shape)\n",
    "df.head()"
   ]
  },
  {
   "cell_type": "code",
   "execution_count": 4,
   "metadata": {},
   "outputs": [],
   "source": [
    "#funiones a implementar:\n",
    "#funcion para reportar mejores parametros y puntuación:\n",
    "def best_hyperparams(model):\n",
    "    print(\"Mejores parámetros encontrados: \", model.best_params_)\n",
    "    print(\"Mejor puntuación: \", model.best_score_)\n",
    "\n",
    "#imprimir reporte de clasificación\n",
    "def plot_classification_report(y_true, y_hat):\n",
    "    \"\"\"\n",
    "    plot_classification_report: Genera una visualización de los puntajes reportados con la función `sklearn.metrics.classification_report`.\n",
    "\n",
    "    Parámetros de ingreso:\n",
    "        - y_true: Un vector objetivo de validación.\n",
    "        - y_hat: Un vector objetivo estimado en función a la matriz de atributos de validación y un modelo entrenado.\n",
    "\n",
    "    Retorno:\n",
    "        - Un gráfico generado con matplotlib.pyplot\n",
    "\n",
    "    \"\"\"\n",
    "    # process string and store in a list\n",
    "    report = classification_report(y_true, y_hat).split()\n",
    "    # keep values\n",
    "    report = [i for i in report if i not in ['precision', 'recall', 'f1-score', 'support']]\n",
    "    # transfer to a DataFrame\n",
    "    report = pd.DataFrame(np.array(report).reshape(len(report) // 5, 5))\n",
    "    # asign columns labels\n",
    "    report.columns = ['idx', 'prec', 'rec', 'f1', 'n']\n",
    "    # preserve class labels\n",
    "    class_labels = report.iloc[:np.unique(y_true).shape[0]].pop('idx').apply(int)\n",
    "    # separate values\n",
    "    class_report = report.iloc[:np.unique(y_true).shape[0], 1:4]\n",
    "    # convert from str to float\n",
    "    class_report = class_report.applymap(float)\n",
    "    # convert to float average report\n",
    "    average_report = report.iloc[-1, 1: 4].apply(float)\n",
    "\n",
    "    colors = ['dodgerblue', 'tomato', 'purple', 'orange']\n",
    "\n",
    "    for i in class_labels:\n",
    "        plt.plot(class_report['prec'][i], [1], marker='x', color=colors[i])\n",
    "        plt.plot(class_report['rec'][i], [2], marker='x', color=colors[i])\n",
    "        plt.plot(class_report['f1'][i], [3], marker='x',color=colors[i], label=f'Class: {i}')\n",
    "\n",
    "    plt.scatter(average_report, [1, 2, 3], marker='o', color='forestgreen', label='Avg')\n",
    "    plt.yticks([1.0, 2.0, 3.0], ['Precision', 'Recall', 'f1-Score'])"
   ]
  },
  {
   "attachments": {},
   "cell_type": "markdown",
   "metadata": {},
   "source": [
    "### 3. Análisis exploratorio"
   ]
  },
  {
   "attachments": {},
   "cell_type": "markdown",
   "metadata": {},
   "source": [
    "3.1 estudio del vector objetivo"
   ]
  },
  {
   "cell_type": "code",
   "execution_count": 5,
   "metadata": {},
   "outputs": [
    {
     "data": {
      "text/plain": [
       "<AxesSubplot:>"
      ]
     },
     "execution_count": 5,
     "metadata": {},
     "output_type": "execute_result"
    },
    {
     "data": {
      "image/png": "[encoded data removed]",
      "text/plain": [
       "<Figure size 640x480 with 1 Axes>"
      ]
     },
     "metadata": {},
     "output_type": "display_data"
    }
   ],
   "source": [
    "#distribución del vector objetivo\n",
    "df['sentiment'].value_counts().plot(kind='bar')"
   ]
  },
  {
   "cell_type": "code",
   "execution_count": 6,
   "metadata": {},
   "outputs": [
    {
     "data": {
      "text/html": [
       "<div>\n",
       "<style scoped>\n",
       "    .dataframe tbody tr th:only-of-type {\n",
       "        vertical-align: middle;\n",
       "    }\n",
       "\n",
       "    .dataframe tbody tr th {\n",
       "        vertical-align: top;\n",
       "    }\n",
       "\n",
       "    .dataframe thead th {\n",
       "        text-align: right;\n",
       "    }\n",
       "</style>\n",
       "<table border=\"1\" class=\"dataframe\">\n",
       "  <thead>\n",
       "    <tr style=\"text-align: right;\">\n",
       "      <th></th>\n",
       "      <th>content</th>\n",
       "      <th>sentiment</th>\n",
       "    </tr>\n",
       "  </thead>\n",
       "  <tbody>\n",
       "    <tr>\n",
       "      <th>count</th>\n",
       "      <td>30000</td>\n",
       "      <td>30000</td>\n",
       "    </tr>\n",
       "    <tr>\n",
       "      <th>unique</th>\n",
       "      <td>29881</td>\n",
       "      <td>13</td>\n",
       "    </tr>\n",
       "    <tr>\n",
       "      <th>top</th>\n",
       "      <td>I just received a mothers day card from my lov...</td>\n",
       "      <td>neutral</td>\n",
       "    </tr>\n",
       "    <tr>\n",
       "      <th>freq</th>\n",
       "      <td>12</td>\n",
       "      <td>6451</td>\n",
       "    </tr>\n",
       "  </tbody>\n",
       "</table>\n",
       "</div>"
      ],
      "text/plain": [
       "                                                  content sentiment\n",
       "count                                               30000     30000\n",
       "unique                                              29881        13\n",
       "top     I just received a mothers day card from my lov...   neutral\n",
       "freq                                                   12      6451"
      ]
     },
     "execution_count": 6,
     "metadata": {},
     "output_type": "execute_result"
    }
   ],
   "source": [
    "df.describe()"
   ]
  },
  {
   "attachments": {},
   "cell_type": "markdown",
   "metadata": {},
   "source": [
    "El vector objetivo esta clarmanete desbalanceado, siendo los sentimientos más comunes: neutral, worry, seguido por happines y saddness. Mas adelante recodificaremos el vector en los dos sentimientos y revisaremos como se comporta.\n",
    "Los sentimientos observados en menor presencia son boredom y anger"
   ]
  },
  {
   "attachments": {},
   "cell_type": "markdown",
   "metadata": {},
   "source": [
    "3.2 Estudio de datos nulos"
   ]
  },
  {
   "cell_type": "code",
   "execution_count": 7,
   "metadata": {},
   "outputs": [
    {
     "data": {
      "text/plain": [
       "content      0\n",
       "sentiment    0\n",
       "dtype: int64"
      ]
     },
     "execution_count": 7,
     "metadata": {},
     "output_type": "execute_result"
    }
   ],
   "source": [
    "df.isnull().sum()"
   ]
  },
  {
   "attachments": {},
   "cell_type": "markdown",
   "metadata": {},
   "source": [
    "El archivo utilizado no posee datos nulos, de todas formas hay datos que no nos sirven en los tweets como puntuaciones, menciones(@) y links que serán limpiados posteriormente"
   ]
  },
  {
   "attachments": {},
   "cell_type": "markdown",
   "metadata": {},
   "source": [
    "Identificación de palabras más comunes en el DF:"
   ]
  },
  {
   "cell_type": "code",
   "execution_count": 8,
   "metadata": {},
   "outputs": [
    {
     "data": {
      "text/html": [
       "<div>\n",
       "<style scoped>\n",
       "    .dataframe tbody tr th:only-of-type {\n",
       "        vertical-align: middle;\n",
       "    }\n",
       "\n",
       "    .dataframe tbody tr th {\n",
       "        vertical-align: top;\n",
       "    }\n",
       "\n",
       "    .dataframe thead th {\n",
       "        text-align: right;\n",
       "    }\n",
       "</style>\n",
       "<table border=\"1\" class=\"dataframe\">\n",
       "  <thead>\n",
       "    <tr style=\"text-align: right;\">\n",
       "      <th></th>\n",
       "      <th>palabras</th>\n",
       "      <th>frecuencia</th>\n",
       "    </tr>\n",
       "  </thead>\n",
       "  <tbody>\n",
       "    <tr>\n",
       "      <th>9486</th>\n",
       "      <td>day</td>\n",
       "      <td>2403</td>\n",
       "    </tr>\n",
       "    <tr>\n",
       "      <th>18732</th>\n",
       "      <td>just</td>\n",
       "      <td>2369</td>\n",
       "    </tr>\n",
       "    <tr>\n",
       "      <th>14495</th>\n",
       "      <td>good</td>\n",
       "      <td>1736</td>\n",
       "    </tr>\n",
       "    <tr>\n",
       "      <th>20580</th>\n",
       "      <td>like</td>\n",
       "      <td>1444</td>\n",
       "    </tr>\n",
       "    <tr>\n",
       "      <th>28178</th>\n",
       "      <td>quot</td>\n",
       "      <td>1399</td>\n",
       "    </tr>\n",
       "    <tr>\n",
       "      <th>16306</th>\n",
       "      <td>http</td>\n",
       "      <td>1398</td>\n",
       "    </tr>\n",
       "    <tr>\n",
       "      <th>35240</th>\n",
       "      <td>today</td>\n",
       "      <td>1269</td>\n",
       "    </tr>\n",
       "    <tr>\n",
       "      <th>21190</th>\n",
       "      <td>love</td>\n",
       "      <td>1245</td>\n",
       "    </tr>\n",
       "    <tr>\n",
       "      <th>38245</th>\n",
       "      <td>work</td>\n",
       "      <td>1240</td>\n",
       "    </tr>\n",
       "    <tr>\n",
       "      <th>14583</th>\n",
       "      <td>got</td>\n",
       "      <td>1236</td>\n",
       "    </tr>\n",
       "  </tbody>\n",
       "</table>\n",
       "</div>"
      ],
      "text/plain": [
       "      palabras frecuencia\n",
       "9486       day       2403\n",
       "18732     just       2369\n",
       "14495     good       1736\n",
       "20580     like       1444\n",
       "28178     quot       1399\n",
       "16306     http       1398\n",
       "35240    today       1269\n",
       "21190     love       1245\n",
       "38245     work       1240\n",
       "14583      got       1236"
      ]
     },
     "execution_count": 8,
     "metadata": {},
     "output_type": "execute_result"
    }
   ],
   "source": [
    "#instanciar objeto\n",
    "count_vectorizer = CountVectorizer(stop_words='english')\n",
    "#implementar fit y transform\n",
    "count_vectorizer_fit = count_vectorizer.fit_transform(df['content'])\n",
    "#extraemos los tokens (palabras)\n",
    "words = count_vectorizer.get_feature_names_out()\n",
    "#extraer frecuencia\n",
    "frec_words = count_vectorizer_fit.toarray().sum(axis=0)\n",
    "\n",
    "#creación de nuevo DF con las palabras y frecuencia de cada una mostrando las 10 de mayor ocurrencia\n",
    "df_n = pd.DataFrame(np.column_stack((words, frec_words)), columns=['palabras', 'frecuencia'])\n",
    "df_n = df_n.sort_values('frecuencia', ascending=False)\n",
    "df_n = df_n.head(10)\n",
    "df_n"
   ]
  },
  {
   "attachments": {},
   "cell_type": "markdown",
   "metadata": {},
   "source": [
    "En la tabla anterior se muestran las palabras con mayor frecuencia de todos los tweets, previo a la limpieza que realizaremos. Se observan datos que no aportan al modelo como \"http\""
   ]
  },
  {
   "attachments": {},
   "cell_type": "markdown",
   "metadata": {},
   "source": [
    "## Parte 2"
   ]
  },
  {
   "attachments": {},
   "cell_type": "markdown",
   "metadata": {},
   "source": [
    "### 4. Feature Engineering"
   ]
  },
  {
   "attachments": {},
   "cell_type": "markdown",
   "metadata": {},
   "source": [
    "4.1 recodificación del vector objetivo"
   ]
  },
  {
   "cell_type": "code",
   "execution_count": 9,
   "metadata": {},
   "outputs": [
    {
     "data": {
      "text/plain": [
       "<AxesSubplot:>"
      ]
     },
     "execution_count": 9,
     "metadata": {},
     "output_type": "execute_result"
    },
    {
     "data": {
      "image/png": "[encoded data removed]",
      "text/plain": [
       "<Figure size 640x480 with 1 Axes>"
      ]
     },
     "metadata": {},
     "output_type": "display_data"
    }
   ],
   "source": [
    "#fijamos semilla para tener el mismo resultado las veces que lo corramos\n",
    "#random será utilizado para separar al azar los datos \"neutral\"\n",
    "random.seed(11238)\n",
    "np.random.seed(11238)\n",
    "\n",
    "nuevas_categorias = {'worry': 'Negativa',\n",
    "                    'happiness': 'Positiva',\n",
    "                    'sadness': 'Negativa',\n",
    "                    'love': 'Positiva',\n",
    "                    'surprise': 'Positiva',\n",
    "                    'fun': 'Positiva',\n",
    "                    'relief': 'Positiva',\n",
    "                    'hate': 'Negativa',\n",
    "                    'empty': 'Negativa',\n",
    "                    'enthusiasm': 'Positiva',\n",
    "                    'boredom': 'Negativa',\n",
    "                    'anger': 'Negativa',\n",
    "                    'neutral': random.choice(['Negativa', 'Positiva'])}\n",
    "\n",
    "df['polaridad'] = df['sentiment'].map(nuevas_categorias)\n",
    "df['polaridad'].value_counts().plot(kind='bar')"
   ]
  },
  {
   "attachments": {},
   "cell_type": "markdown",
   "metadata": {},
   "source": [
    "Luego recodificaremos el vector a 0 (positiva) y 1 (negativas) para poder entregarlo a los modelos "
   ]
  },
  {
   "cell_type": "code",
   "execution_count": 10,
   "metadata": {},
   "outputs": [
    {
     "data": {
      "text/plain": [
       "0    17978\n",
       "1    12022\n",
       "Name: polaridad, dtype: int64"
      ]
     },
     "execution_count": 10,
     "metadata": {},
     "output_type": "execute_result"
    }
   ],
   "source": [
    "df['polaridad'] = np.where(df['polaridad'] == 'Positiva', 0, 1)\n",
    "df['polaridad'].value_counts()"
   ]
  },
  {
   "cell_type": "code",
   "execution_count": 11,
   "metadata": {},
   "outputs": [
    {
     "data": {
      "text/html": [
       "<div>\n",
       "<style scoped>\n",
       "    .dataframe tbody tr th:only-of-type {\n",
       "        vertical-align: middle;\n",
       "    }\n",
       "\n",
       "    .dataframe tbody tr th {\n",
       "        vertical-align: top;\n",
       "    }\n",
       "\n",
       "    .dataframe thead th {\n",
       "        text-align: right;\n",
       "    }\n",
       "</style>\n",
       "<table border=\"1\" class=\"dataframe\">\n",
       "  <thead>\n",
       "    <tr style=\"text-align: right;\">\n",
       "      <th></th>\n",
       "      <th>content</th>\n",
       "      <th>sentiment</th>\n",
       "      <th>polaridad</th>\n",
       "      <th>clean_tweets</th>\n",
       "    </tr>\n",
       "  </thead>\n",
       "  <tbody>\n",
       "    <tr>\n",
       "      <th>0</th>\n",
       "      <td>Happy Mama's day to all mothers</td>\n",
       "      <td>love</td>\n",
       "      <td>0</td>\n",
       "      <td>happi mama day mother</td>\n",
       "    </tr>\n",
       "    <tr>\n",
       "      <th>1</th>\n",
       "      <td>@LysdelTellez I am lost. Please help me find a...</td>\n",
       "      <td>worry</td>\n",
       "      <td>1</td>\n",
       "      <td>lysdeltellez lost pleas help find good home</td>\n",
       "    </tr>\n",
       "    <tr>\n",
       "      <th>2</th>\n",
       "      <td>@BoomKatt yes yes I AM, networking whore to th...</td>\n",
       "      <td>happiness</td>\n",
       "      <td>0</td>\n",
       "      <td>boomkatt ye ye network whore fullestand girl r...</td>\n",
       "    </tr>\n",
       "    <tr>\n",
       "      <th>3</th>\n",
       "      <td>you@snapplynn Wish that would have been your t...</td>\n",
       "      <td>neutral</td>\n",
       "      <td>0</td>\n",
       "      <td>yousnapplynn wish would tweet follow</td>\n",
       "    </tr>\n",
       "    <tr>\n",
       "      <th>4</th>\n",
       "      <td>now i am doing the MicroEconomics project  iha...</td>\n",
       "      <td>worry</td>\n",
       "      <td>1</td>\n",
       "      <td>microeconom project ihat subject amp besid eng...</td>\n",
       "    </tr>\n",
       "  </tbody>\n",
       "</table>\n",
       "</div>"
      ],
      "text/plain": [
       "                                             content  sentiment  polaridad  \\\n",
       "0                    Happy Mama's day to all mothers       love          0   \n",
       "1  @LysdelTellez I am lost. Please help me find a...      worry          1   \n",
       "2  @BoomKatt yes yes I AM, networking whore to th...  happiness          0   \n",
       "3  you@snapplynn Wish that would have been your t...    neutral          0   \n",
       "4  now i am doing the MicroEconomics project  iha...      worry          1   \n",
       "\n",
       "                                        clean_tweets  \n",
       "0                              happi mama day mother  \n",
       "1        lysdeltellez lost pleas help find good home  \n",
       "2  boomkatt ye ye network whore fullestand girl r...  \n",
       "3               yousnapplynn wish would tweet follow  \n",
       "4  microeconom project ihat subject amp besid eng...  "
      ]
     },
     "execution_count": 11,
     "metadata": {},
     "output_type": "execute_result"
    }
   ],
   "source": [
    "#limpieza de tweets\n",
    "def limpieza(texto):\n",
    "    STOPWORDS = stopwords.words('english')\n",
    "    #revisar si hay puntuaciones\n",
    "    nopunc = [char for char in texto if char not in string.punctuation]\n",
    "    nopunc = ''.join(nopunc)\n",
    "\n",
    "    #remove stopwords\n",
    "    text =  ' '.join([word for word in nopunc.split() if word.lower() not in STOPWORDS]).lower()\n",
    "\n",
    "    #lemmantizer\n",
    "    lem = WordNetLemmatizer()\n",
    "    lemmatized_words = [lem.lemmatize(word) for word in text.split()]\n",
    "    lemmatized_tweet = ' '.join(lemmatized_words)\n",
    "\n",
    "    #Steeming\n",
    "    stem = PorterStemmer()\n",
    "    stemmed_words = [stem.stem(word) for word in lemmatized_tweet.split()]\n",
    "    stemmed_tweet = ' '.join(stemmed_words)\n",
    "    return stemmed_tweet\n",
    "\n",
    "\n",
    "df['clean_tweets'] = df['content'].apply(limpieza)\n",
    "df.head()"
   ]
  },
  {
   "attachments": {},
   "cell_type": "markdown",
   "metadata": {},
   "source": [
    "### 5. Modelación"
   ]
  },
  {
   "cell_type": "code",
   "execution_count": 12,
   "metadata": {},
   "outputs": [
    {
     "name": "stdout",
     "output_type": "stream",
     "text": [
      "X_train Dimension: (20100,)\n",
      "X_test Dimension: (9900,)\n",
      "Y_train Dimension: (20100,)\n",
      "Y_test Dimension: (9900,)\n"
     ]
    }
   ],
   "source": [
    "#separación entre conjunto de prueba y testeo\n",
    "X_train, X_test, y_train, y_test = train_test_split(df['clean_tweets'], df['polaridad'], test_size=.33, random_state=11238)\n",
    "print('X_train Dimension:', X_train.shape)\n",
    "print('X_test Dimension:', X_test.shape)\n",
    "print('Y_train Dimension:', y_train.shape)\n",
    "print('Y_test Dimension:', y_test.shape)"
   ]
  },
  {
   "cell_type": "code",
   "execution_count": 13,
   "metadata": {},
   "outputs": [],
   "source": [
    "#Traspasaremos los tweets a numero mediante el count vectorizer para poder ser entendidos por los modelos\n",
    "vectorizer = CountVectorizer()\n",
    "X_train_vect = vectorizer.fit_transform(X_train)\n",
    "X_test_vect = vectorizer.transform(X_test)"
   ]
  },
  {
   "cell_type": "code",
   "execution_count": 14,
   "metadata": {},
   "outputs": [
    {
     "name": "stdout",
     "output_type": "stream",
     "text": [
      "X_train Dimension: (23986, 28334)\n",
      "Y_train Dimension: (23986,)\n"
     ]
    }
   ],
   "source": [
    "#utilizaremos SMOTE para compensar el desbalanceo de clases\n",
    "smt = SMOTE()\n",
    "X_train_vect, y_train = smt.fit_resample(X_train_vect, y_train)\n",
    "print('X_train Dimension:', X_train_vect.shape)\n",
    "print('Y_train Dimension:', y_train.shape)"
   ]
  },
  {
   "attachments": {},
   "cell_type": "markdown",
   "metadata": {},
   "source": [
    "Modelos y grillas a implementar\n",
    "\n",
    "A continuación, se implementarán los siguientes modelos, indicados con sus respectivas grillas:\n",
    "* Naive bayes\n",
    "* Support Vector Machine (SVM): {'C': [0.0001, 0.001, 0.01, 0.1, 1, 10, 100, 1000],'gamma': [0.0000001, 0.0001, 0.001, 0.01, 0.1, 1, 10,1000]}\n",
    "* Arboles de descición: {'max_features': list(range(1, X_train.shape[1])),\n",
    "                                 'max_depth': np.linspace(1, 32, num=32, endpoint=True)}\n",
    "* Random Forest: 'n_estimators': n_estimators,  # Número de árboles en el bosque\n",
    "    'max_depth': [None, 5, 10],  # Profundidad máxima de cada árbol\n",
    "    'min_samples_split': [2, 5, 10],  # Número mínimo de muestras requeridas para dividir un nodo interno\n",
    "    'min_samples_leaf': [1, 2, 4]  # Número mínimo de muestras requeridas en cada hoja del árbol\n",
    "* Adaboost y Gradient Boost: 'learning_rate': [0.01, 0.1, 0.5]\n",
    "* Redes Neuronales\n"
   ]
  },
  {
   "attachments": {},
   "cell_type": "markdown",
   "metadata": {},
   "source": [
    "#### Modelo 1: Naive Bayes"
   ]
  },
  {
   "cell_type": "code",
   "execution_count": 161,
   "metadata": {},
   "outputs": [
    {
     "data": {
      "text/plain": [
       "array([[4224, 1761],\n",
       "       [1301, 2614]])"
      ]
     },
     "execution_count": 161,
     "metadata": {},
     "output_type": "execute_result"
    }
   ],
   "source": [
    "nb = MultinomialNB().fit(X_train_vect, y_train)\n",
    "yhat = nb.predict(X_test_vect)\n",
    "confusion_matrix(y_test, yhat)"
   ]
  },
  {
   "cell_type": "code",
   "execution_count": 162,
   "metadata": {},
   "outputs": [
    {
     "name": "stdout",
     "output_type": "stream",
     "text": [
      "              precision    recall  f1-score   support\n",
      "\n",
      "           0       0.76      0.71      0.73      5985\n",
      "           1       0.60      0.67      0.63      3915\n",
      "\n",
      "    accuracy                           0.69      9900\n",
      "   macro avg       0.68      0.69      0.68      9900\n",
      "weighted avg       0.70      0.69      0.69      9900\n",
      "\n"
     ]
    }
   ],
   "source": [
    "print(classification_report(y_test, yhat))"
   ]
  },
  {
   "cell_type": "code",
   "execution_count": 163,
   "metadata": {},
   "outputs": [],
   "source": [
    "with open('FML-NB.pkl', 'wb') as file:\n",
    "    pickle.dump(nb, file)"
   ]
  },
  {
   "attachments": {},
   "cell_type": "markdown",
   "metadata": {},
   "source": [
    "El modelo con Naive Bayes nos da un accuracy del 71%. Logra predecir con 74% los tweet con polaridad positiva y con 65% los con polaridad negativa. Sin embargo el puntaje f1 es bajo para los negativos por lo que le cuesta identificar los tweets negativos"
   ]
  },
  {
   "attachments": {},
   "cell_type": "markdown",
   "metadata": {},
   "source": [
    "#### Modelo 2: SVM"
   ]
  },
  {
   "cell_type": "code",
   "execution_count": 164,
   "metadata": {},
   "outputs": [
    {
     "name": "stdout",
     "output_type": "stream",
     "text": [
      "Mejores parámetros encontrados:  {'C': 1000, 'gamma': 0.1}\n",
      "Mejor puntuación:  0.6376636371216543\n"
     ]
    }
   ],
   "source": [
    "#parámetros a implemenar en la grilla\n",
    "params ={\n",
    "    'C': [0.0001, 0.001, 0.01, 0.1, 1, 10, 100, 1000],\n",
    "    'gamma': [0.0000001, 0.0001, 0.001, 0.01, 0.1, 1, 10,1000]\n",
    "}\n",
    "\n",
    "#creción del modelo y búsqueda de grilla\n",
    "grid_search_SVM = GridSearchCV(SVC(), params, cv=2, return_train_score=True)\n",
    "grid_search_SVM.fit(X_train_vect, y_train)\n",
    "\n",
    "#mejores parámetros\n",
    "best_hyperparams(grid_search_SVM)"
   ]
  },
  {
   "cell_type": "code",
   "execution_count": 165,
   "metadata": {},
   "outputs": [
    {
     "name": "stdout",
     "output_type": "stream",
     "text": [
      "Informe de clasificación:\n",
      "              precision    recall  f1-score   support\n",
      "\n",
      "           0       0.68      0.61      0.65      5985\n",
      "           1       0.49      0.57      0.53      3915\n",
      "\n",
      "    accuracy                           0.59      9900\n",
      "   macro avg       0.59      0.59      0.59      9900\n",
      "weighted avg       0.61      0.59      0.60      9900\n",
      "\n"
     ]
    }
   ],
   "source": [
    "#predicción\n",
    "y_pred = grid_search_SVM.predict(X_test_vect)\n",
    "\n",
    "#evaluación del modelo\n",
    "print(\"Informe de clasificación:\")\n",
    "print(classification_report(y_test, y_pred))"
   ]
  },
  {
   "cell_type": "code",
   "execution_count": 166,
   "metadata": {},
   "outputs": [],
   "source": [
    "with open('FMLL-SVM.pkl', 'wb') as file:\n",
    "    pickle.dump(grid_search_SVM, file)"
   ]
  },
  {
   "attachments": {},
   "cell_type": "markdown",
   "metadata": {},
   "source": [
    "El modelo con SVM tiene un acurracy de 72% lo cual es un poco mejor que NB, sin embargo el f1 sigue siendo bajo para las identificaciones negativas por lo que no las logra predecir correctamente"
   ]
  },
  {
   "attachments": {},
   "cell_type": "markdown",
   "metadata": {},
   "source": [
    "#### Modelo 3: Arboles de desición"
   ]
  },
  {
   "cell_type": "code",
   "execution_count": 167,
   "metadata": {},
   "outputs": [
    {
     "name": "stdout",
     "output_type": "stream",
     "text": [
      "Mejores parámetros encontrados:  {'max_depth': None, 'min_samples_split': 10}\n",
      "Mejor puntuación:  0.6635142343984443\n",
      "Informe de clasificación:\n",
      "              precision    recall  f1-score   support\n",
      "\n",
      "           0       0.69      0.63      0.66      5985\n",
      "           1       0.50      0.58      0.54      3915\n",
      "\n",
      "    accuracy                           0.61      9900\n",
      "   macro avg       0.60      0.60      0.60      9900\n",
      "weighted avg       0.62      0.61      0.61      9900\n",
      "\n"
     ]
    }
   ],
   "source": [
    "#parametros del modelo\n",
    "params = {'max_depth': [None, 5, 10], 'min_samples_split': [2, 5, 10]}\n",
    "\n",
    "#creación del modelo\n",
    "tree = DecisionTreeClassifier()\n",
    "\n",
    "#grid search\n",
    "grid_search_t = GridSearchCV(tree, params, cv=5)\n",
    "grid_search_t.fit(X_train_vect, y_train)\n",
    "\n",
    "#mejores parametros\n",
    "best_hyperparams(grid_search_t)\n",
    "\n",
    "#predicciones con los mejores parametros\n",
    "best_clf = grid_search_t.best_estimator_\n",
    "y_pred = best_clf.predict(X_test_vect)\n",
    "\n",
    "#evaluación\n",
    "print(\"Informe de clasificación:\")\n",
    "print(classification_report(y_test, y_pred))"
   ]
  },
  {
   "cell_type": "code",
   "execution_count": 168,
   "metadata": {},
   "outputs": [],
   "source": [
    "with open('FMLL-AD.pkl', 'wb') as file:\n",
    "    pickle.dump(grid_search_t, file)"
   ]
  },
  {
   "attachments": {},
   "cell_type": "markdown",
   "metadata": {},
   "source": [
    "El modelo con arboles de desicion tiene un desempeño bastante bajo con solo un 68% de presición y sin lograr identificar bien la polaridad (F1 muy bajo en ambos casos)"
   ]
  },
  {
   "attachments": {},
   "cell_type": "markdown",
   "metadata": {},
   "source": [
    "#### Modelo 4: Random Forest"
   ]
  },
  {
   "cell_type": "code",
   "execution_count": 169,
   "metadata": {},
   "outputs": [
    {
     "name": "stdout",
     "output_type": "stream",
     "text": [
      "Mejores parámetros encontrados:  {'max_depth': None, 'min_samples_leaf': 1, 'min_samples_split': 2, 'n_estimators': 300}\n",
      "Mejor puntuación:  0.6383306929041941\n"
     ]
    }
   ],
   "source": [
    "#parámetros para la grilla\n",
    "params = {'n_estimators': [100, 200, 300],  # Número de árboles en el bosque\n",
    "    'max_depth': [None, 5, 10],  # Profundidad máxima de cada árbol\n",
    "    'min_samples_split': [2, 5, 10],  # Número mínimo de muestras requeridas para dividir un nodo interno\n",
    "    'min_samples_leaf': [1, 2, 4]}  # Número mínimo de muestras requeridas en cada hoja del árbol\n",
    "\n",
    "#creción del modelo\n",
    "rf = RandomForestClassifier()\n",
    "grid_search_rf = GridSearchCV(rf, params, cv=2)\n",
    "grid_search_rf.fit(X_train_vect, y_train)\n",
    "\n",
    "#mejores parametros\n",
    "best_hyperparams(grid_search_rf)"
   ]
  },
  {
   "cell_type": "code",
   "execution_count": 170,
   "metadata": {},
   "outputs": [
    {
     "name": "stdout",
     "output_type": "stream",
     "text": [
      "Informe de clasificación:\n",
      "              precision    recall  f1-score   support\n",
      "\n",
      "           0       0.73      0.54      0.62      5985\n",
      "           1       0.50      0.70      0.58      3915\n",
      "\n",
      "    accuracy                           0.60      9900\n",
      "   macro avg       0.62      0.62      0.60      9900\n",
      "weighted avg       0.64      0.60      0.61      9900\n",
      "\n"
     ]
    }
   ],
   "source": [
    "#predicciones\n",
    "best_rf = grid_search_rf.best_estimator_\n",
    "y_pred = best_rf.predict(X_test_vect)\n",
    "\n",
    "#evalauación del modelo\n",
    "print(\"Informe de clasificación:\")\n",
    "print(classification_report(y_test, y_pred))"
   ]
  },
  {
   "cell_type": "code",
   "execution_count": 171,
   "metadata": {},
   "outputs": [],
   "source": [
    "with open('FMLL-RF.pkl', 'wb') as file:\n",
    "    pickle.dump(grid_search_rf, file)"
   ]
  },
  {
   "attachments": {},
   "cell_type": "markdown",
   "metadata": {},
   "source": [
    "El modelo con Random Forest tiene un accuracy del 72%, el modelo no es bueno identificando las polaridades y le cuesta identificar los negativos (f1 bajo para la polaridad negativa)"
   ]
  },
  {
   "attachments": {},
   "cell_type": "markdown",
   "metadata": {},
   "source": [
    "#### Modelo 5: Adaboost y GradientBoost"
   ]
  },
  {
   "cell_type": "code",
   "execution_count": 172,
   "metadata": {},
   "outputs": [],
   "source": [
    "#parametros para la grilla\n",
    "params = {'learning_rate': [0.01, 0.1, 0.5],\n",
    "          'n_estimators': [50, 100, 500, 1000,2000]}\n",
    "params2 = {'learning_rate': [0.01, 0.1, 0.5],\n",
    "          'n_estimators': [50, 100, 500, 1000,2000],\n",
    "          'subsample': [0.1, 0.5, 0.9]}\n",
    "\n",
    "#modelo con el gridsearch\n",
    "improve_adaboost = GridSearchCV(AdaBoostClassifier(random_state=11238), params, cv=2).fit(X_train_vect, y_train)"
   ]
  },
  {
   "cell_type": "code",
   "execution_count": 173,
   "metadata": {},
   "outputs": [],
   "source": [
    "improve_gboost = GridSearchCV(GradientBoostingClassifier(random_state=11238), params, cv=2).fit(X_train_vect, y_train)"
   ]
  },
  {
   "cell_type": "code",
   "execution_count": 174,
   "metadata": {},
   "outputs": [
    {
     "name": "stdout",
     "output_type": "stream",
     "text": [
      "Mejores parámetros encontrados:  {'learning_rate': 0.5, 'n_estimators': 500}\n",
      "Mejor puntuación:  0.6150254315017094\n",
      "Mejores parámetros encontrados:  {'learning_rate': 0.1, 'n_estimators': 500}\n",
      "Mejor puntuación:  0.6114400066705579\n"
     ]
    }
   ],
   "source": [
    "best_hyperparams(improve_adaboost)\n",
    "best_hyperparams(improve_gboost)"
   ]
  },
  {
   "cell_type": "code",
   "execution_count": 175,
   "metadata": {},
   "outputs": [
    {
     "name": "stdout",
     "output_type": "stream",
     "text": [
      "Informe de clasificación:\n",
      "              precision    recall  f1-score   support\n",
      "\n",
      "           0       0.76      0.62      0.68      5985\n",
      "           1       0.55      0.70      0.61      3915\n",
      "\n",
      "    accuracy                           0.65      9900\n",
      "   macro avg       0.65      0.66      0.65      9900\n",
      "weighted avg       0.67      0.65      0.66      9900\n",
      "\n"
     ]
    }
   ],
   "source": [
    "#predicciones\n",
    "best_ada = improve_adaboost.best_estimator_\n",
    "y_pred = best_ada.predict(X_test_vect)\n",
    "\n",
    "#evalauación del modelo\n",
    "print(\"Informe de clasificación:\")\n",
    "print(classification_report(y_test, y_pred))"
   ]
  },
  {
   "cell_type": "code",
   "execution_count": 176,
   "metadata": {},
   "outputs": [
    {
     "name": "stdout",
     "output_type": "stream",
     "text": [
      "Informe de clasificación:\n",
      "              precision    recall  f1-score   support\n",
      "\n",
      "           0       0.76      0.61      0.68      5985\n",
      "           1       0.54      0.71      0.61      3915\n",
      "\n",
      "    accuracy                           0.65      9900\n",
      "   macro avg       0.65      0.66      0.65      9900\n",
      "weighted avg       0.68      0.65      0.65      9900\n",
      "\n"
     ]
    }
   ],
   "source": [
    "#predicciones\n",
    "best_gboo = improve_gboost.best_estimator_\n",
    "y_pred = best_gboo.predict(X_test_vect)\n",
    "\n",
    "#evalauación del modelo\n",
    "print(\"Informe de clasificación:\")\n",
    "print(classification_report(y_test, y_pred))"
   ]
  },
  {
   "attachments": {},
   "cell_type": "markdown",
   "metadata": {},
   "source": [
    "Ambos modelos se comportan de manera similar, con un accuracy del 72%"
   ]
  },
  {
   "attachments": {},
   "cell_type": "markdown",
   "metadata": {},
   "source": [
    "#### Modelo 6: LighGBM"
   ]
  },
  {
   "cell_type": "code",
   "execution_count": 15,
   "metadata": {},
   "outputs": [
    {
     "name": "stderr",
     "output_type": "stream",
     "text": [
      "[LightGBM] [Fatal] Number of classes should be specified and greater than 1 for multiclass training\n",
      "[LightGBM] [Fatal] Number of classes should be specified and greater than 1 for multiclass training\n",
      "[LightGBM] [Fatal] Number of classes should be specified and greater than 1 for multiclass training\n",
      "[LightGBM] [Fatal] Number of classes should be specified and greater than 1 for multiclass training\n",
      "[LightGBM] [Fatal] Number of classes should be specified and greater than 1 for multiclass training\n",
      "[LightGBM] [Fatal] Number of classes should be specified and greater than 1 for multiclass training\n",
      "[LightGBM] [Fatal] Number of classes should be specified and greater than 1 for multiclass training\n",
      "[LightGBM] [Fatal] Number of classes should be specified and greater than 1 for multiclass training\n",
      "[LightGBM] [Fatal] Number of classes should be specified and greater than 1 for multiclass training\n",
      "[LightGBM] [Fatal] Number of classes should be specified and greater than 1 for multiclass training\n",
      "[LightGBM] [Fatal] Number of classes should be specified and greater than 1 for multiclass training\n",
      "[LightGBM] [Fatal] Number of classes should be specified and greater than 1 for multiclass training\n",
      "[LightGBM] [Fatal] Number of classes should be specified and greater than 1 for multiclass training\n",
      "[LightGBM] [Fatal] Number of classes should be specified and greater than 1 for multiclass training\n",
      "[LightGBM] [Fatal] Number of classes should be specified and greater than 1 for multiclass training\n",
      "[LightGBM] [Fatal] Number of classes should be specified and greater than 1 for multiclass training\n",
      "[LightGBM] [Fatal] Number of classes should be specified and greater than 1 for multiclass training\n",
      "[LightGBM] [Fatal] Number of classes should be specified and greater than 1 for multiclass training\n",
      "[LightGBM] [Fatal] Number of classes should be specified and greater than 1 for multiclass training\n",
      "[LightGBM] [Fatal] Number of classes should be specified and greater than 1 for multiclass training\n",
      "[LightGBM] [Fatal] Number of classes should be specified and greater than 1 for multiclass training\n",
      "[LightGBM] [Fatal] Number of classes should be specified and greater than 1 for multiclass training\n",
      "[LightGBM] [Fatal] Number of classes should be specified and greater than 1 for multiclass training\n",
      "[LightGBM] [Fatal] Number of classes should be specified and greater than 1 for multiclass training\n",
      "[LightGBM] [Fatal] Number of classes should be specified and greater than 1 for multiclass training\n",
      "[LightGBM] [Fatal] Number of classes should be specified and greater than 1 for multiclass training\n",
      "[LightGBM] [Fatal] Number of classes should be specified and greater than 1 for multiclass training\n",
      "[LightGBM] [Fatal] Number of classes should be specified and greater than 1 for multiclass training\n",
      "[LightGBM] [Fatal] Number of classes should be specified and greater than 1 for multiclass training\n",
      "[LightGBM] [Fatal] Number of classes should be specified and greater than 1 for multiclass training\n",
      "[LightGBM] [Fatal] Number of classes should be specified and greater than 1 for multiclass training\n",
      "[LightGBM] [Fatal] Number of classes should be specified and greater than 1 for multiclass training\n",
      "[LightGBM] [Fatal] Number of classes should be specified and greater than 1 for multiclass training\n",
      "[LightGBM] [Fatal] Number of classes should be specified and greater than 1 for multiclass training\n",
      "[LightGBM] [Fatal] Number of classes should be specified and greater than 1 for multiclass training\n",
      "[LightGBM] [Fatal] Number of classes should be specified and greater than 1 for multiclass training\n",
      "[LightGBM] [Fatal] Number of classes should be specified and greater than 1 for multiclass training\n",
      "[LightGBM] [Fatal] Number of classes should be specified and greater than 1 for multiclass training\n",
      "[LightGBM] [Fatal] Number of classes should be specified and greater than 1 for multiclass training\n",
      "[LightGBM] [Fatal] Number of classes should be specified and greater than 1 for multiclass training\n",
      "[LightGBM] [Fatal] Number of classes should be specified and greater than 1 for multiclass training\n",
      "[LightGBM] [Fatal] Number of classes should be specified and greater than 1 for multiclass training\n",
      "[LightGBM] [Fatal] Number of classes should be specified and greater than 1 for multiclass training\n",
      "[LightGBM] [Fatal] Number of classes should be specified and greater than 1 for multiclass training\n",
      "[LightGBM] [Fatal] Number of classes should be specified and greater than 1 for multiclass training\n",
      "[LightGBM] [Fatal] Number of classes should be specified and greater than 1 for multiclass training\n",
      "[LightGBM] [Fatal] Number of classes should be specified and greater than 1 for multiclass training\n",
      "[LightGBM] [Fatal] Number of classes should be specified and greater than 1 for multiclass training\n",
      "[LightGBM] [Fatal] Number of classes should be specified and greater than 1 for multiclass training\n",
      "[LightGBM] [Fatal] Number of classes should be specified and greater than 1 for multiclass training\n",
      "[LightGBM] [Fatal] Number of classes should be specified and greater than 1 for multiclass training\n",
      "[LightGBM] [Fatal] Number of classes should be specified and greater than 1 for multiclass training\n",
      "[LightGBM] [Fatal] Number of classes should be specified and greater than 1 for multiclass training\n",
      "[LightGBM] [Fatal] Number of classes should be specified and greater than 1 for multiclass training\n",
      "[LightGBM] [Fatal] Number of classes should be specified and greater than 1 for multiclass training\n",
      "[LightGBM] [Fatal] Number of classes should be specified and greater than 1 for multiclass training\n",
      "[LightGBM] [Fatal] Number of classes should be specified and greater than 1 for multiclass training\n",
      "[LightGBM] [Fatal] Number of classes should be specified and greater than 1 for multiclass training\n",
      "[LightGBM] [Fatal] Number of classes should be specified and greater than 1 for multiclass training\n",
      "[LightGBM] [Fatal] Number of classes should be specified and greater than 1 for multiclass training\n",
      "[LightGBM] [Fatal] Number of classes should be specified and greater than 1 for multiclass training\n",
      "[LightGBM] [Fatal] Number of classes should be specified and greater than 1 for multiclass training\n",
      "[LightGBM] [Fatal] Number of classes should be specified and greater than 1 for multiclass training\n",
      "[LightGBM] [Fatal] Number of classes should be specified and greater than 1 for multiclass training\n",
      "[LightGBM] [Fatal] Number of classes should be specified and greater than 1 for multiclass training\n",
      "[LightGBM] [Fatal] Number of classes should be specified and greater than 1 for multiclass training\n",
      "[LightGBM] [Fatal] Number of classes should be specified and greater than 1 for multiclass training\n",
      "[LightGBM] [Fatal] Number of classes should be specified and greater than 1 for multiclass training\n",
      "[LightGBM] [Fatal] Number of classes should be specified and greater than 1 for multiclass training\n",
      "[LightGBM] [Fatal] Number of classes should be specified and greater than 1 for multiclass training\n",
      "[LightGBM] [Fatal] Number of classes should be specified and greater than 1 for multiclass training\n",
      "[LightGBM] [Fatal] Number of classes should be specified and greater than 1 for multiclass training\n",
      "[LightGBM] [Fatal] Number of classes should be specified and greater than 1 for multiclass training\n",
      "[LightGBM] [Fatal] Number of classes should be specified and greater than 1 for multiclass training\n",
      "[LightGBM] [Fatal] Number of classes should be specified and greater than 1 for multiclass training\n",
      "[LightGBM] [Fatal] Number of classes should be specified and greater than 1 for multiclass training\n",
      "[LightGBM] [Fatal] Number of classes should be specified and greater than 1 for multiclass training\n",
      "[LightGBM] [Fatal] Number of classes should be specified and greater than 1 for multiclass training\n",
      "[LightGBM] [Fatal] Number of classes should be specified and greater than 1 for multiclass training\n",
      "[LightGBM] [Fatal] Number of classes should be specified and greater than 1 for multiclass training\n",
      "[LightGBM] [Fatal] Number of classes should be specified and greater than 1 for multiclass training\n",
      "/Users/felipemoreira/opt/anaconda3/lib/python3.9/site-packages/sklearn/model_selection/_validation.py:372: FitFailedWarning: \n",
      "81 fits failed out of a total of 162.\n",
      "The score on these train-test partitions for these parameters will be set to nan.\n",
      "If these failures are not expected, you can try to debug them by setting error_score='raise'.\n",
      "\n",
      "Below are more details about the failures:\n",
      "--------------------------------------------------------------------------------\n",
      "81 fits failed with the following error:\n",
      "Traceback (most recent call last):\n",
      "  File \"/Users/felipemoreira/opt/anaconda3/lib/python3.9/site-packages/sklearn/model_selection/_validation.py\", line 680, in _fit_and_score\n",
      "    estimator.fit(X_train, y_train, **fit_params)\n",
      "  File \"/Users/felipemoreira/opt/anaconda3/lib/python3.9/site-packages/lightgbm/sklearn.py\", line 967, in fit\n",
      "    super().fit(X, _y, sample_weight=sample_weight, init_score=init_score, eval_set=valid_sets,\n",
      "  File \"/Users/felipemoreira/opt/anaconda3/lib/python3.9/site-packages/lightgbm/sklearn.py\", line 748, in fit\n",
      "    self._Booster = train(\n",
      "  File \"/Users/felipemoreira/opt/anaconda3/lib/python3.9/site-packages/lightgbm/engine.py\", line 271, in train\n",
      "    booster = Booster(params=params, train_set=train_set)\n",
      "  File \"/Users/felipemoreira/opt/anaconda3/lib/python3.9/site-packages/lightgbm/basic.py\", line 2605, in __init__\n",
      "    train_set.construct()\n",
      "  File \"/Users/felipemoreira/opt/anaconda3/lib/python3.9/site-packages/lightgbm/basic.py\", line 1815, in construct\n",
      "    self._lazy_init(self.data, label=self.label,\n",
      "  File \"/Users/felipemoreira/opt/anaconda3/lib/python3.9/site-packages/lightgbm/basic.py\", line 1534, in _lazy_init\n",
      "    self.__init_from_csr(data, params_str, ref_dataset)\n",
      "  File \"/Users/felipemoreira/opt/anaconda3/lib/python3.9/site-packages/lightgbm/basic.py\", line 1728, in __init_from_csr\n",
      "    _safe_call(_LIB.LGBM_DatasetCreateFromCSR(\n",
      "  File \"/Users/felipemoreira/opt/anaconda3/lib/python3.9/site-packages/lightgbm/basic.py\", line 125, in _safe_call\n",
      "    raise LightGBMError(_LIB.LGBM_GetLastError().decode('utf-8'))\n",
      "lightgbm.basic.LightGBMError: Number of classes should be specified and greater than 1 for multiclass training\n",
      "\n",
      "  warnings.warn(some_fits_failed_message, FitFailedWarning)\n",
      "/Users/felipemoreira/opt/anaconda3/lib/python3.9/site-packages/sklearn/model_selection/_search.py:969: UserWarning: One or more of the test scores are non-finite: [0.61006285        nan 0.61006285        nan 0.61006285        nan\n",
      " 0.61277286        nan 0.61394028        nan 0.61356511        nan\n",
      " 0.6137316         nan 0.61410678        nan 0.61252246        nan\n",
      " 0.57708606        nan 0.57708606        nan 0.57708606        nan\n",
      " 0.59447088        nan 0.59384551        nan 0.59459594        nan\n",
      " 0.60185003        nan 0.60109936        nan 0.60489337        nan\n",
      " 0.57137496        nan 0.57137496        nan 0.57137496        nan\n",
      " 0.57637721        nan 0.57637721        nan 0.57637721        nan\n",
      " 0.59055201        nan 0.59693057        nan 0.59776415        nan]\n",
      "  warnings.warn(\n"
     ]
    },
    {
     "name": "stdout",
     "output_type": "stream",
     "text": [
      "Mejores parámetros encontrados:  {'boosting_type': 'gbdt', 'learning_rate': 0.1, 'max_depth': -1, 'metric': 'binary_logloss', 'num_leaves': 31, 'objective': 'binary', 'seed': 42}\n",
      "Mejor puntuación:  0.6141067823884843\n"
     ]
    }
   ],
   "source": [
    "#importación LGBM\n",
    "import lightgbm as lgb\n",
    "\n",
    "# Convertir los datos de entrenamiento a tipo float32\n",
    "X_train_lgb = X_train_vect.astype(np.float32)\n",
    "y_train_lgb = y_train.astype(np.float32)\n",
    "\n",
    "# Convertir los datos de prueba a tipo float32\n",
    "X_test_lgb = X_test_vect.astype(np.float32)\n",
    "y_test_lgb = y_test.astype(np.float32)\n",
    "\n",
    "#preparación de datos\n",
    "train_data = lgb.Dataset(X_train_lgb, label=y_train_lgb)\n",
    "test_data = lgb.Dataset(X_test_lgb, label=y_test_lgb)\n",
    "\n",
    "#Definición de los parámetros del modelo\n",
    "params = {\n",
    "    'objective': ['binary', 'multiclass'],\n",
    "    'metric': ['binary_logloss'],\n",
    "    'boosting_type': ['gbdt'],\n",
    "    'learning_rate': [0.1, 0.01, 0.001],\n",
    "    'num_leaves': [20, 31, 40],\n",
    "    'max_depth': [5, 10, -1],\n",
    "    'seed': [42]\n",
    "}\n",
    "\n",
    "#Creación del modelo base\n",
    "base_model = lgb.LGBMClassifier()\n",
    "\n",
    "#Creación de la instancia de GridSearchCV\n",
    "grid_search = GridSearchCV(estimator=base_model, param_grid=params, scoring='accuracy', cv=3)\n",
    "grid_search.fit(X_train_lgb, y_train_lgb)\n",
    "\n",
    "#resultados\n",
    "best_hyperparams(grid_search)\n",
    "\n",
    "\n"
   ]
  },
  {
   "cell_type": "code",
   "execution_count": 16,
   "metadata": {},
   "outputs": [
    {
     "name": "stdout",
     "output_type": "stream",
     "text": [
      "Informe de clasificación:\n",
      "              precision    recall  f1-score   support\n",
      "\n",
      "         0.0       0.76      0.65      0.70      5985\n",
      "         1.0       0.56      0.69      0.62      3915\n",
      "\n",
      "    accuracy                           0.66      9900\n",
      "   macro avg       0.66      0.67      0.66      9900\n",
      "weighted avg       0.68      0.66      0.67      9900\n",
      "\n"
     ]
    }
   ],
   "source": [
    "# Paso 6: Evaluación del modelo\n",
    "y_pred = grid_search.predict(X_test_lgb)\n",
    "y_pred_binary = [1 if p >= 0.5 else 0 for p in y_pred]\n",
    "\n",
    "#evalauación del modelo\n",
    "print(\"Informe de clasificación:\")\n",
    "print(classification_report(y_test_lgb, y_pred_binary))"
   ]
  },
  {
   "attachments": {},
   "cell_type": "markdown",
   "metadata": {},
   "source": [
    "### Parte 3"
   ]
  },
  {
   "cell_type": "markdown",
   "metadata": {},
   "source": [
    "Resultados de los modelos probados"
   ]
  },
  {
   "cell_type": "code",
   "execution_count": 17,
   "metadata": {},
   "outputs": [],
   "source": [
    "#cálculo de los modelos con los best estimators\n",
    "m1 = MultinomialNB().fit(X_train_vect, y_train)\n",
    "m2 = SVC(C = 1, gamma = 0.1).fit(X_train_vect, y_train)\n",
    "m3 = DecisionTreeClassifier(max_depth = None, min_samples_split = 5).fit(X_train_vect, y_train)\n",
    "m4 = RandomForestClassifier(max_depth = None, min_samples_leaf = 2, min_samples_split = 2, n_estimators = 300).fit(X_train_vect, y_train)\n",
    "m5 = AdaBoostClassifier(learning_rate = 0.5, n_estimators = 500).fit(X_train_vect, y_train)\n",
    "m6 = GradientBoostingClassifier(learning_rate = 0.1, n_estimators = 1000).fit(X_train_vect, y_train)\n",
    "m7 = lgb.LGBMClassifier(boosting_type = 'gbdt', learning_rate = 0.1, max_depth = -1, metric = 'binary_logloss', num_leaves = 20, objective = 'binary', seed = 42).fit(X_train_lgb, y_train_lgb)\n",
    "\n",
    "#predicciones\n",
    "y1 = m1.predict(X_test_vect)\n",
    "y2 = m2.predict(X_test_vect)\n",
    "y3 = m3.predict(X_test_vect)\n",
    "y4 = m4.predict(X_test_vect)\n",
    "y5 = m5.predict(X_test_vect)\n",
    "y6 = m6.predict(X_test_vect)\n",
    "y7 = m7.predict(X_test_lgb)\n"
   ]
  },
  {
   "cell_type": "code",
   "execution_count": 18,
   "metadata": {},
   "outputs": [
    {
     "data": {
      "text/plain": [
       "<matplotlib.legend.Legend at 0x7f87a001cbb0>"
      ]
     },
     "execution_count": 18,
     "metadata": {},
     "output_type": "execute_result"
    },
    {
     "data": {
      "image/png": "[encoded data removed]",
      "text/plain": [
       "<Figure size 1000x1000 with 7 Axes>"
      ]
     },
     "metadata": {},
     "output_type": "display_data"
    }
   ],
   "source": [
    "pred = [y1, y2, y3, y4, y5, y6, y7]\n",
    "\n",
    "plt.figure(figsize=(10,10))\n",
    "for i, pred in enumerate(pred):\n",
    "    plt.subplot(3, 3, i+1)\n",
    "    plot_classification_report(y_test, pred)\n",
    "    plt.axvline(.5)\n",
    "    plt.axvline(.7, color='orange')\n",
    "    plt.xlim((0.1, 1))\n",
    "    plt.title(i+1)\n",
    "    plt.tight_layout()\n",
    "plt.legend(loc='center left', bbox_to_anchor=(1, 0.5))"
   ]
  },
  {
   "attachments": {},
   "cell_type": "markdown",
   "metadata": {},
   "source": [
    "* El modelo con mejor desempeño es el de Naive Bayes, con un accuracy del 69%, pero presenta algunas dificultades para identificar de buena manera los valores 1 (polaridad negativa) con un valor f1 del 63% \n",
    "\n",
    "* El segundo mejor modelo corresponde al de LigthGBM, con un accuracy del 66%, aún así, tiene problemas para lograr identificar la clase 1 (porlaridad negativa)"
   ]
  }
 ],
 "metadata": {
  "kernelspec": {
   "display_name": "Python 3",
   "language": "python",
   "name": "python3"
  },
  "language_info": {
   "codemirror_mode": {
    "name": "ipython",
    "version": 3
   },
   "file_extension": ".py",
   "mimetype": "text/x-python",
   "name": "python",
   "nbconvert_exporter": "python",
   "pygments_lexer": "ipython3",
   "version": "3.9.13"
  },
  "orig_nbformat": 4
 },
 "nbformat": 4,
 "nbformat_minor": 2
}
